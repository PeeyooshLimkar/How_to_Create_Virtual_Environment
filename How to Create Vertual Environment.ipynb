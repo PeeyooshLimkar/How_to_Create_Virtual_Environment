{
 "cells": [
  {
   "cell_type": "markdown",
   "id": "a645f670",
   "metadata": {},
   "source": [
    "<br>"
   ]
  },
  {
   "cell_type": "markdown",
   "id": "5e5724a6",
   "metadata": {},
   "source": [
    "# How to Create Vertual Environment"
   ]
  },
  {
   "cell_type": "markdown",
   "id": "bbb92a91",
   "metadata": {},
   "source": [
    "<br>"
   ]
  },
  {
   "attachments": {},
   "cell_type": "markdown",
   "id": "9dcb5eb5",
   "metadata": {},
   "source": [
    "### !pip install virtualenv\n",
    "\n",
    "\n",
    "#### Go inside your project folder & fire command\n",
    "\n",
    "### virtualenv venv_folder\n",
    "\n",
    "#### Go inside venv_folder inside bin\n",
    "\n",
    "### venv_folder\\Scripts\\activate.bat or deactivate.bat"
   ]
  },
  {
   "cell_type": "markdown",
   "id": "253c964a",
   "metadata": {},
   "source": [
    "<br>"
   ]
  },
  {
   "attachments": {},
   "cell_type": "markdown",
   "id": "41c2b5cf",
   "metadata": {},
   "source": [
    "- 1. Open Windows Terminal.\n",
    "\n",
    "\n",
    "- 2. Go till inside your projrct folder & fier the command\n",
    "\n",
    "\n",
    "- **python -m venv venv_folder** \n",
    "    - venv_folder is nothing but folder that holds virtual environment.\n",
    "\n",
    "\n",
    "- 4. Open project folder inside Visual Studio Code.\n",
    "\n",
    "\n",
    "- 5. Press Ctrl + Shift + p\n",
    "\n",
    "\n",
    "- 6. Click on 'Enter interpreter path' -> Find -> Go insider your veve_folder inside project folder -> Scripts -> Python Interpreter\n",
    "\n",
    "\n",
    "or\n",
    "\n",
    "\n",
    "- 6. fire command\n",
    "- **venv_folder\\Scripts\\activate.bat**"
   ]
  },
  {
   "cell_type": "markdown",
   "id": "55d24654",
   "metadata": {},
   "source": [
    "<br>"
   ]
  },
  {
   "cell_type": "markdown",
   "id": "7166551e",
   "metadata": {},
   "source": [
    "<br>"
   ]
  }
 ],
 "metadata": {
  "kernelspec": {
   "display_name": "Python 3 (ipykernel)",
   "language": "python",
   "name": "python3"
  },
  "language_info": {
   "codemirror_mode": {
    "name": "ipython",
    "version": 3
   },
   "file_extension": ".py",
   "mimetype": "text/x-python",
   "name": "python",
   "nbconvert_exporter": "python",
   "pygments_lexer": "ipython3",
   "version": "3.9.13"
  }
 },
 "nbformat": 4,
 "nbformat_minor": 5
}
